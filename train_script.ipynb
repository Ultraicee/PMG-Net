{
 "cells": [
  {
   "cell_type": "markdown",
   "id": "425819ee",
   "metadata": {},
   "source": [
    "# Assume current path is project home directory, ~/PMG-Net"
   ]
  },
  {
   "cell_type": "markdown",
   "id": "35bedf8e",
   "metadata": {},
   "source": [
    "## 1. Train generator G first."
   ]
  },
  {
   "cell_type": "code",
   "execution_count": null,
   "id": "83b7ffc6",
   "metadata": {},
   "outputs": [],
   "source": [
    "# Note：如果报错 No module named util，在终端执行\n",
    "export PYTHONPATH=$PYTHONPATH:~/PMG-Net/aa_nets:~/PMG-Net/stylegan3/dnnlib:~/PMG-Net/stylegan3/torch_utils\n",
    "# 添加aanet和stylegan3所需的依赖库到环境变量中"
   ]
  },
  {
   "cell_type": "code",
   "execution_count": null,
   "id": "0fef48f1",
   "metadata": {},
   "outputs": [],
   "source": [
    "# # train diffusion-sgan2 (optional)\n",
    "#% run diffusion-stylegan2/train.py --outdir=training-runs --data=datasets/invivo_disp_gt.npy  --gpus=1 --cfg stylegan2 --kimg 2000 --aug no --target 0.6 --noise_sd 0.05 --ts_dist priority --metrics none\n",
    "\n",
    "# # train sgan2 with resume if existed (optional)\n",
    "#% run stylegan3/train.py --outdir=training-runs --cfg=stylegan2 --data=datasets/invivo_disp_gt.npy --gpus=1 --batch=16 --gamma=10 --resume=/home/ubuntu/WS-YG/PMG-Net/final_models/invivo/optimizer_latest_sgan2.pkl\n",
    "\n",
    "# train sgan3 without metrics evaluation\n",
    "%run stylegan3/train.py --outdir=training-runs --cfg=stylegan3-t --data=datasets/invivo_disp_gt.npy --gpus=1 --batch=64 --gamma=8.2 --metrics=none"
   ]
  },
  {
   "cell_type": "markdown",
   "id": "9cd7a8da",
   "metadata": {},
   "source": [
    "## 2. Generate label $w_{opt}^{train}$ for predictor P"
   ]
  },
  {
   "cell_type": "code",
   "execution_count": null,
   "id": "01d43509",
   "metadata": {},
   "outputs": [],
   "source": [
    "# Train w_opt for invivo training dataset\n",
    "# check line237, change 'test' to 'train' when generate w_opt^{train}, to 'robust_test' when test robustness.\n",
    "%run stylegan3/GNet_train.py --dataset=invivo --model=sgan3 --mode=train_w"
   ]
  },
  {
   "cell_type": "markdown",
   "id": "5b26b43b",
   "metadata": {},
   "source": [
    "## Train Predictor or Mapping"
   ]
  },
  {
   "cell_type": "code",
   "execution_count": null,
   "id": "83efbad7",
   "metadata": {},
   "outputs": [],
   "source": [
    "# Train pmg for invivo\n",
    "%run stylegan3/PMGNet_train.py --dataset=phantom --model=pmg --mode=test"
   ]
  },
  {
   "cell_type": "markdown",
   "id": "10ab49e3",
   "metadata": {},
   "source": [
    "## Others"
   ]
  },
  {
   "cell_type": "code",
   "execution_count": null,
   "id": "16b6a7f2",
   "metadata": {},
   "outputs": [],
   "source": [
    "# Calculate FID, for example model file 001411.pkl and dataset Synth_invivo\n",
    "%run stylegan3/calc_metrics.py --metrics=fid50k_full --network=~/WS-YG/PMG-Net/training-runs/network-snapshot-001411.pkl --data=/home/ubuntu/WS-YG/PMG-Net/datasets/Synth_invivo_disp.npy\n",
    "# Test saved disparity file by sgans for invivo\n",
    "%run stylegan3/GNet_train.py --dataset=invivo --mode=test_disp"
   ]
  },
  {
   "cell_type": "code",
   "execution_count": null,
   "id": "329d747f",
   "metadata": {},
   "outputs": [],
   "source": []
  }
 ],
 "metadata": {
  "kernelspec": {
   "display_name": "Python 3 (ipykernel)",
   "language": "python",
   "name": "python3"
  },
  "language_info": {
   "codemirror_mode": {
    "name": "ipython",
    "version": 3
   },
   "file_extension": ".py",
   "mimetype": "text/x-python",
   "name": "python",
   "nbconvert_exporter": "python",
   "pygments_lexer": "ipython3",
   "version": "3.9.12"
  }
 },
 "nbformat": 4,
 "nbformat_minor": 5
}
