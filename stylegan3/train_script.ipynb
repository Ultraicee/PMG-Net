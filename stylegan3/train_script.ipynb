{
 "cells": [
  {
   "cell_type": "markdown",
   "source": [
    "# Assume current path is project home directory, ~/PMG-Net"
   ],
   "metadata": {
    "collapsed": false
   }
  },
  {
   "cell_type": "markdown",
   "source": [
    "## Train generator G first."
   ],
   "metadata": {
    "collapsed": false
   }
  },
  {
   "cell_type": "code",
   "execution_count": null,
   "outputs": [],
   "source": [
    "# train diffusion-sgan2\n",
    "% run diffusion-stylegan2/train.py --outdir=training-runs --data=/hy-tmp/stylegan3/Synth_invivo_disp.npy  --gpus=1 --cfg stylegan2 --kimg 2000 --aug no --target 0.6 --noise_sd 0.05 --ts_dist priority --metrics none\n",
    "\n",
    "# train sgan2 with resume if existed\n",
    "% python stylegan3/train.py --outdir=training-runs --cfg=stylegan2 --data=datasets/Synth_invivo_disp.npy --gpus=1 --batch=16 --gamma=10 --resume=/home/ubuntu/WS-YG/PMG-Net/final_models/invivo/optimizer_latest_sgan2.pkl\n",
    "\n",
    "# train sgan3 without metrics evaluation\n",
    "% python stylegan3/train.py --outdir=training-runs --cfg=stylegan3-t --data=stylegan3/Synth_invivo_disp.npy --gpus=1 --batch=64 --gamma=8.2 --metrics=none"
   ],
   "metadata": {
    "collapsed": false
   }
  },
  {
   "cell_type": "markdown",
   "source": [
    "## Generate label w_{opt}^{train} for predictor P"
   ],
   "metadata": {
    "collapsed": false
   }
  },
  {
   "cell_type": "code",
   "execution_count": null,
   "outputs": [],
   "source": [
    "# Train w_opt for invivo training dataset\n",
    "% python stylegan3/GNet_train.py --dataset=invivo --model=sgan3 --mode=train_w"
   ],
   "metadata": {
    "collapsed": false
   }
  },
  {
   "cell_type": "markdown",
   "source": [
    "## Train Predictor or Mapping"
   ],
   "metadata": {
    "collapsed": false
   }
  },
  {
   "cell_type": "code",
   "execution_count": null,
   "outputs": [],
   "source": [
    "# Train pmg for invivo\n",
    "% python stylegan3/PMGNet_train.py --dataset=phantom --model=pmg --mode=test"
   ],
   "metadata": {
    "collapsed": false
   }
  },
  {
   "cell_type": "markdown",
   "source": [
    "## Others"
   ],
   "metadata": {
    "collapsed": false
   }
  },
  {
   "cell_type": "code",
   "execution_count": null,
   "outputs": [],
   "source": [
    "# Calculate FID, for example model file 001411.pkl and dataset Synth_invivo\n",
    "%python stylegan3/calc_metrics.py --metrics=fid50k_full --network=/home/ubuntu/WS-YG/PMG-Net/training-runs/network-snapshot-001411.pkl --data=/home/ubuntu/WS-YG/PMG-Net/datasets/Synth_invivo_disp.npy\n",
    "# Test saved disparity file by sgans for invivo\n",
    "% python stylegan3/GNet_train.py --dataset=invivo --mode=test_disp"
   ],
   "metadata": {
    "collapsed": false
   }
  }
 ],
 "metadata": {
  "kernelspec": {
   "display_name": "Python 3 (ipykernel)",
   "language": "python",
   "name": "python3"
  },
  "language_info": {
   "codemirror_mode": {
    "name": "ipython",
    "version": 3
   },
   "file_extension": ".py",
   "mimetype": "text/x-python",
   "name": "python",
   "nbconvert_exporter": "python",
   "pygments_lexer": "ipython3",
   "version": "3.8.10"
  }
 },
 "nbformat": 4,
 "nbformat_minor": 5
}
